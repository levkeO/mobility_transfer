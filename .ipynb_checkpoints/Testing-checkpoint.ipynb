{
 "cells": [
  {
   "cell_type": "code",
   "execution_count": 1,
   "metadata": {},
   "outputs": [],
   "source": [
    "from util import *"
   ]
  },
  {
   "cell_type": "code",
   "execution_count": 5,
   "metadata": {},
   "outputs": [],
   "source": [
    "\n",
    "cutoff = 1.3# cutoff for particles being 'close' to each other (~ first min of g(r))\n",
    "rho = 1.4                       # number density for periodic boundaries\n",
    "numFrames = 1000# number of frames\n",
    "path = \"/Users/francesco/Downloads/T0.48_N10002_NVT_step_2000LJ_startFrame125.xyz\"# path to input file\n",
    "\n",
    "partType = 0 # type of particles to compute: 0: all particles, 'A': type A particle: 'B': type B particles\n",
    "if partType == '0':\n",
    "    numPart = 10002\n",
    "    partLabel = ['A','B'] # for loading coordinates of A and B particles\n",
    "elif partType =='A': \n",
    "    numPart = 6668\n",
    "    partLabel = ['A','A']\n",
    "else: \n",
    "    numPart = 3334\n",
    "    partLabel = ['B','B']\n",
    "side  = (numPart / rho)**(1/3)\t# box length\n",
    "numFast = int(numPart*0.1)\t# number of particles that are considered 'fast'\n"
   ]
  },
  {
   "cell_type": "code",
   "execution_count": 3,
   "metadata": {},
   "outputs": [],
   "source": [
    "\n",
    "allCoords = readCoords(path,numFrames,numPart,partLabel)\n",
    " "
   ]
  },
  {
   "cell_type": "code",
   "execution_count": 8,
   "metadata": {},
   "outputs": [
    {
     "name": "stdout",
     "output_type": "stream",
     "text": [
      "length of trajcectory section delta is 100 frames\n",
      "Fast particles with previous fast neighbours: 0.76 percent\n",
      "Fast particles with previous selection of random neighbours: 0.76 percent\n"
     ]
    },
    {
     "data": {
      "image/png": "[encoded data removed]",
      "text/plain": [
       "<Figure size 432x288 with 1 Axes>"
      ]
     },
     "metadata": {
      "needs_background": "light"
     },
     "output_type": "display_data"
    }
   ],
   "source": [
    "   \n",
    "for delta in [100]:\n",
    "    pl.figure()\n",
    "    print('length of trajcectory section delta is %.3d frames'%(delta))\n",
    "    fastPart = selectFast(allCoords,delta,numFast,numFrames,side,numPart) # select all fast particles for all frames\n",
    "    randPart = selectRand(allCoords,delta,numFast,numFrames,fastPart,numPart) # randomly select particles that are not fast for each frame\n",
    "    minDistsFast = np.array(distFast(fastPart,fastPart, allCoords,delta, side))\n",
    "    minDistsRand = np.array(distFast(fastPart,randPart, allCoords,delta, side)) # Calculate distance between particles in different frames\n",
    "    pl.hist(minDistsFast,bins = 20,density = True,histtype = 'step', color = 'red',label = 'fast')\t#plot distribution of minimum distance\n",
    "    pl.hist(minDistsRand,bins = 20,density= True,histtype = 'step', color = 'blue', label  = 'rand')\n",
    "    pl.legend(frameon=False)\n",
    "    pl.title('delta= '+str(delta))\n",
    "    print('Fast particles with previous fast neighbours: %.2f percent'%(len(minDistsFast[minDistsFast<cutoff])/len(minDistsFast)))#compute ratio of close particles\n",
    "    print('Fast particles with previous selection of random neighbours: %.2f percent'%(len(minDistsRand[minDistsRand<cutoff])/len(minDistsRand)))#compute ratio of close particles\n",
    "pl.show()"
   ]
  },
  {
   "cell_type": "code",
   "execution_count": 9,
   "metadata": {},
   "outputs": [
    {
     "data": {
      "text/plain": [
       "9"
      ]
     },
     "execution_count": 9,
     "metadata": {},
     "output_type": "execute_result"
    }
   ],
   "source": []
  },
  {
   "cell_type": "markdown",
   "metadata": {},
   "source": [
    "My understanding is the following:\n",
    "- `fastPart` is a list of arrays. Every array has the ID of fast fast particles at a given frame\n",
    "- `randPart` is a list of arrays. Every array has a random selection of ids. I would eexpect it to contain the same number of ids per arrays, but it doesn't.\n"
   ]
  },
  {
   "cell_type": "code",
   "execution_count": 10,
   "metadata": {},
   "outputs": [
    {
     "name": "stdout",
     "output_type": "stream",
     "text": [
      "333 318\n",
      "333 303\n",
      "333 319\n",
      "333 333\n",
      "333 353\n",
      "333 315\n",
      "333 371\n",
      "333 327\n",
      "333 333\n"
     ]
    }
   ],
   "source": [
    "for f,r in zip(fastPart, randPart):\n",
    "    print(len(f),len(r))"
   ]
  },
  {
   "cell_type": "markdown",
   "metadata": {},
   "source": [
    "- `minDistsFast` is an array. It contains all the minimal distances between fast particles in consecutive frames. However, the information "
   ]
  },
  {
   "cell_type": "code",
   "execution_count": 13,
   "metadata": {},
   "outputs": [
    {
     "data": {
      "text/plain": [
       "numpy.ndarray"
      ]
     },
     "execution_count": 13,
     "metadata": {},
     "output_type": "execute_result"
    }
   ],
   "source": [
    "type(minDistsFast)"
   ]
  },
  {
   "cell_type": "code",
   "execution_count": null,
   "metadata": {},
   "outputs": [],
   "source": []
  }
 ],
 "metadata": {
  "kernelspec": {
   "display_name": "Python 3",
   "language": "python",
   "name": "python3"
  },
  "language_info": {
   "codemirror_mode": {
    "name": "ipython",
    "version": 3
   },
   "file_extension": ".py",
   "mimetype": "text/x-python",
   "name": "python",
   "nbconvert_exporter": "python",
   "pygments_lexer": "ipython3",
   "version": "3.7.1"
  }
 },
 "nbformat": 4,
 "nbformat_minor": 4
}
